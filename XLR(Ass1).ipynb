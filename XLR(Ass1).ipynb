{
 "cells": [
  {
   "cell_type": "code",
   "execution_count": 1,
   "id": "3b3af964-14cc-48c9-8abc-3b0047196545",
   "metadata": {},
   "outputs": [
    {
     "name": "stdout",
     "output_type": "stream",
     "text": [
      "Integer variable: 10 Type: <class 'int'>\n",
      "Float variable: 20.5 Type: <class 'float'>\n",
      "String variable: Hello, Jupyter! Type: <class 'str'>\n",
      "Boolean variable: True Type: <class 'bool'>\n"
     ]
    }
   ],
   "source": [
    "integer_var = 10\n",
    "float_var = 20.5\n",
    "string_var = \"Hello, Jupyter!\"\n",
    "boolean_var = True\n",
    "\n",
    "print(\"Integer variable:\", integer_var, \"Type:\", type(integer_var))\n",
    "print(\"Float variable:\", float_var, \"Type:\", type(float_var))\n",
    "print(\"String variable:\", string_var, \"Type:\", type(string_var))\n",
    "print(\"Boolean variable:\", boolean_var, \"Type:\", type(boolean_var))"
   ]
  },
  {
   "cell_type": "code",
   "execution_count": null,
   "id": "13622556-1b2c-44e4-9cc7-5d6874ccc928",
   "metadata": {},
   "outputs": [],
   "source": []
  }
 ],
 "metadata": {
  "kernelspec": {
   "display_name": "Python 3 (ipykernel)",
   "language": "python",
   "name": "python3"
  },
  "language_info": {
   "codemirror_mode": {
    "name": "ipython",
    "version": 3
   },
   "file_extension": ".py",
   "mimetype": "text/x-python",
   "name": "python",
   "nbconvert_exporter": "python",
   "pygments_lexer": "ipython3",
   "version": "3.12.7"
  }
 },
 "nbformat": 4,
 "nbformat_minor": 5
}
