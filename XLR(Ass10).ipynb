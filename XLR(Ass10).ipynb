{
 "cells": [
  {
   "cell_type": "code",
   "execution_count": 1,
   "id": "abebd786-b62e-4500-8ae1-9e437096c031",
   "metadata": {},
   "outputs": [
    {
     "name": "stdout",
     "output_type": "stream",
     "text": [
      "          Date       Account_Type    Branch Transaction_Type  \\\n",
      "0   2023-01-19      Fixed Deposit   Central     Loan Payment   \n",
      "1   2023-01-16            Current    Uptown       Withdrawal   \n",
      "3   2023-01-18            Savings    Uptown     Loan Payment   \n",
      "6   2023-01-04  Recurring Deposit   Central   Service Charge   \n",
      "9   2023-01-11      Fixed Deposit  Downtown          Deposit   \n",
      "10  2023-01-13  Recurring Deposit   Central          Deposit   \n",
      "11  2023-01-08      Fixed Deposit  Suburban   Service Charge   \n",
      "12  2023-01-15      Fixed Deposit    Uptown   Service Charge   \n",
      "18  2023-01-12  Recurring Deposit  Suburban   Service Charge   \n",
      "\n",
      "    Transaction_Amount  Account_Balance  \n",
      "0               985.51          6839.59  \n",
      "1               641.43          8908.39  \n",
      "3              1914.60          5776.63  \n",
      "6              1621.82          6465.79  \n",
      "9              1529.59          2592.16  \n",
      "10              846.41          6443.14  \n",
      "11             1803.88          6560.58  \n",
      "12             1225.50          4224.47  \n",
      "18             1339.57          8666.74  \n",
      "          Date       Account_Type   Branch Transaction_Type  \\\n",
      "0   2023-01-19      Fixed Deposit  Central     Loan Payment   \n",
      "2   2023-01-10            Current   Uptown     Loan Payment   \n",
      "3   2023-01-18            Savings   Uptown     Loan Payment   \n",
      "7   2023-01-09            Current  Central     Loan Payment   \n",
      "13  2023-01-05  Recurring Deposit  Central     Loan Payment   \n",
      "17  2023-01-07            Current  Central     Loan Payment   \n",
      "\n",
      "    Transaction_Amount  Account_Balance  \n",
      "0               985.51          6839.59  \n",
      "2              3363.85         12428.67  \n",
      "3              1914.60          5776.63  \n",
      "7              2346.72         10708.85  \n",
      "13             4683.64          6762.43  \n",
      "17             4116.52          9785.64  \n",
      "          Date   Account_Type  Branch Transaction_Type  Transaction_Amount  \\\n",
      "1   2023-01-16        Current  Uptown       Withdrawal              641.43   \n",
      "2   2023-01-10        Current  Uptown     Loan Payment             3363.85   \n",
      "3   2023-01-18        Savings  Uptown     Loan Payment             1914.60   \n",
      "12  2023-01-15  Fixed Deposit  Uptown   Service Charge             1225.50   \n",
      "\n",
      "    Account_Balance  \n",
      "1           8908.39  \n",
      "2          12428.67  \n",
      "3           5776.63  \n",
      "12          4224.47  \n"
     ]
    }
   ],
   "source": [
    "import pandas as pd\n",
    "\n",
    "df = pd.read_csv('Day_10_banking_data.csv')\n",
    "\n",
    "filtered_transactions_1 = df[df['Transaction_Amount'] <= 2000]\n",
    "print(filtered_transactions_1)\n",
    "\n",
    "filtered_transactions_2 = df[(df['Transaction_Type'] == 'Loan Payment') & (df['Account_Balance'] > 5000)]\n",
    "print(filtered_transactions_2)\n",
    "\n",
    "filtered_transactions_3 = df[df['Branch'] == 'Uptown']\n",
    "print(filtered_transactions_3)\n"
   ]
  },
  {
   "cell_type": "code",
   "execution_count": null,
   "id": "66baefad-e756-40ca-a6d7-af00b3b681dd",
   "metadata": {},
   "outputs": [],
   "source": []
  }
 ],
 "metadata": {
  "kernelspec": {
   "display_name": "Python 3 (ipykernel)",
   "language": "python",
   "name": "python3"
  },
  "language_info": {
   "codemirror_mode": {
    "name": "ipython",
    "version": 3
   },
   "file_extension": ".py",
   "mimetype": "text/x-python",
   "name": "python",
   "nbconvert_exporter": "python",
   "pygments_lexer": "ipython3",
   "version": "3.12.7"
  }
 },
 "nbformat": 4,
 "nbformat_minor": 5
}
