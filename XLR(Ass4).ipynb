{
 "cells": [
  {
   "cell_type": "code",
   "execution_count": null,
   "id": "091bf077-7d98-4dfb-9f4d-a3cdfd55aa86",
   "metadata": {},
   "outputs": [],
   "source": [
    "n = int(input(\"Please enter a positive integer n: \"))\n",
    "\n",
    "even_sum = 0\n",
    "\n",
    "for i in range(1, n + 1):\n",
    "    if i % 2 == 0: \n",
    "        even_sum += i \n",
    "print(\"The total sum of all even numbers from 1 to\", n, \"is:\", even_sum)"
   ]
  },
  {
   "cell_type": "code",
   "execution_count": null,
   "id": "a2e3fba9-ef18-45b7-b785-360b72d89617",
   "metadata": {},
   "outputs": [],
   "source": []
  }
 ],
 "metadata": {
  "kernelspec": {
   "display_name": "Python 3 (ipykernel)",
   "language": "python",
   "name": "python3"
  },
  "language_info": {
   "codemirror_mode": {
    "name": "ipython",
    "version": 3
   },
   "file_extension": ".py",
   "mimetype": "text/x-python",
   "name": "python",
   "nbconvert_exporter": "python",
   "pygments_lexer": "ipython3",
   "version": "3.12.7"
  }
 },
 "nbformat": 4,
 "nbformat_minor": 5
}
