{
 "cells": [
  {
   "cell_type": "code",
   "execution_count": 1,
   "id": "4f0e2552-e5fc-44a5-8d5a-fb0241080923",
   "metadata": {},
   "outputs": [
    {
     "name": "stdout",
     "output_type": "stream",
     "text": [
      "    Name  Age Department  Salary\n",
      "0   John   28         HR   45000\n",
      "1  Alice   34         IT   60000\n",
      "2    Bob   23  Marketing   35000\n",
      "3  Diana   29    Finance   50000\n"
     ]
    }
   ],
   "source": [
    "import pandas as pd\n",
    "data = {\n",
    "    'Name': ['John', 'Alice', 'Bob', 'Diana'],\n",
    "    'Age': [28, 34, 23, 29],\n",
    "    'Department': ['HR', 'IT', 'Marketing', 'Finance'],\n",
    "    'Salary': [45000, 60000, 35000, 50000]\n",
    "}\n",
    "df = pd.DataFrame(data)\n",
    "print(df)\n"
   ]
  },
  {
   "cell_type": "code",
   "execution_count": 2,
   "id": "077a2edb-613b-49ef-b0d7-669ebb0a652a",
   "metadata": {},
   "outputs": [
    {
     "name": "stdout",
     "output_type": "stream",
     "text": [
      "First 2 rows of the DataFrame:\n",
      "    Name  Age Department  Salary\n",
      "0   John   28         HR   45000\n",
      "1  Alice   34         IT   60000\n",
      "\n",
      "\n",
      "DataFrame with the 'Bonus' column:\n",
      "    Name  Age Department  Salary   Bonus\n",
      "0   John   28         HR   45000  4500.0\n",
      "1  Alice   34         IT   60000  6000.0\n",
      "2    Bob   23  Marketing   35000  3500.0\n",
      "3  Diana   29    Finance   50000  5000.0\n",
      "\n",
      "\n",
      "The average salary of employees is: 47500.0\n",
      "\n",
      "\n",
      "Employees older than 25:\n",
      "    Name  Age Department  Salary   Bonus\n",
      "0   John   28         HR   45000  4500.0\n",
      "1  Alice   34         IT   60000  6000.0\n",
      "3  Diana   29    Finance   50000  5000.0\n"
     ]
    }
   ],
   "source": [
    "import pandas as pd\n",
    "data = {\n",
    "    'Name': ['John', 'Alice', 'Bob', 'Diana'],\n",
    "    'Age': [28, 34, 23, 29],\n",
    "    'Department': ['HR', 'IT', 'Marketing', 'Finance'],\n",
    "    'Salary': [45000, 60000, 35000, 50000]\n",
    "}\n",
    "df = pd.DataFrame(data)\n",
    "print(\"First 2 rows of the DataFrame:\")\n",
    "print(df.head(2))\n",
    "print(\"\\n\")\n",
    "\n",
    "df['Bonus'] = df['Salary'] * 0.10\n",
    "print(\"DataFrame with the 'Bonus' column:\")\n",
    "print(df)\n",
    "print(\"\\n\")\n",
    "\n",
    "average_salary = df['Salary'].mean()\n",
    "print(f\"The average salary of employees is: {average_salary}\")\n",
    "print(\"\\n\")\n",
    "\n",
    "print(\"Employees older than 25:\")\n",
    "older_than_25 = df[df['Age'] > 25]\n",
    "print(older_than_25)\n"
   ]
  },
  {
   "cell_type": "code",
   "execution_count": null,
   "id": "e839aca0-e175-4721-8526-ec81897f4507",
   "metadata": {},
   "outputs": [],
   "source": []
  }
 ],
 "metadata": {
  "kernelspec": {
   "display_name": "Python 3 (ipykernel)",
   "language": "python",
   "name": "python3"
  },
  "language_info": {
   "codemirror_mode": {
    "name": "ipython",
    "version": 3
   },
   "file_extension": ".py",
   "mimetype": "text/x-python",
   "name": "python",
   "nbconvert_exporter": "python",
   "pygments_lexer": "ipython3",
   "version": "3.12.7"
  }
 },
 "nbformat": 4,
 "nbformat_minor": 5
}
