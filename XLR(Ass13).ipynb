{
 "cells": [
  {
   "cell_type": "code",
   "execution_count": null,
   "id": "aac62619-a5dd-4f16-94f6-bee0c4b35039",
   "metadata": {},
   "outputs": [],
   "source": [
    "import pandas as pd\n",
    "import matplotlib.pyplot as plt\n",
    "import seaborn as sns\n",
    "\n",
    "df = pd.read_csv('Day_13_sales_effectiveness_data.csv')\n",
    "\n",
    "df.drop_duplicates(inplace=True)\n",
    "df.isnull().sum()  \n",
    "\n",
    "region_sales = df.groupby('Region')['Sales'].sum()\n",
    "region_sales.plot(kind='bar', title='Total Sales per Region', color='skyblue')\n",
    "plt.xlabel('Region')\n",
    "plt.ylabel('Total Sales')\n",
    "plt.show()\n",
    "\n",
    "plt.figure(figsize=(8, 6))\n",
    "sns.scatterplot(data=df, x='Marketing_Spend', y='Sales', hue='Region', palette='coolwarm')\n",
    "plt.title('Marketing Spend vs Sales')\n",
    "plt.xlabel('Marketing Spend')\n",
    "plt.ylabel('Sales')\n",
    "plt.show()\n",
    "\n",
    "plt.figure(figsize=(8, 6))\n",
    "sns.boxplot(data=df, x='Age_Group', y='Effectiveness', palette='Set2')\n",
    "plt.title('Drug Effectiveness Across Age Groups')\n",
    "plt.xlabel('Age Group')\n",
    "plt.ylabel('Effectiveness')\n",
    "plt.show()\n",
    "\n",
    "plt.figure(figsize=(10, 6))\n",
    "sns.lineplot(data=df, x='Trial_Period', y='Sales', hue='Product', marker='o')\n",
    "plt.title('Sales Trend for Each Product Over Trial Periods')\n",
    "plt.xlabel('Trial Period')\n",
    "plt.ylabel('Sales')\n",
    "plt.show()\n",
    "\n",
    "corr_matrix = df[['Sales', 'Marketing_Spend', 'Effectiveness']].corr()\n",
    "plt.figure(figsize=(8, 6))\n",
    "sns.heatmap(corr_matrix, annot=True, cmap='coolwarm', fmt='.2f', linewidths=0.5)\n",
    "plt.title('Correlation Heatmap Between Sales, Marketing Spend, and Effectiveness')\n",
    "plt.show()\n"
   ]
  }
 ],
 "metadata": {
  "kernelspec": {
   "display_name": "Python 3 (ipykernel)",
   "language": "python",
   "name": "python3"
  },
  "language_info": {
   "codemirror_mode": {
    "name": "ipython",
    "version": 3
   },
   "file_extension": ".py",
   "mimetype": "text/x-python",
   "name": "python",
   "nbconvert_exporter": "python",
   "pygments_lexer": "ipython3",
   "version": "3.12.7"
  }
 },
 "nbformat": 4,
 "nbformat_minor": 5
}
